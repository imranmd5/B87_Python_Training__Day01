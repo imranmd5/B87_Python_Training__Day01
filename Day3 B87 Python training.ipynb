{
 "cells": [
  {
   "cell_type": "code",
   "execution_count": 26,
   "id": "5bd0c8a3-e46c-4a05-acf6-a92c98f68109",
   "metadata": {},
   "outputs": [
    {
     "name": "stdout",
     "output_type": "stream",
     "text": [
      "My name is : mohammed imran\n"
     ]
    }
   ],
   "source": [
    "firstname = 'mohammed'\n",
    "lastname = 'imran'\n",
    "\n",
    "fullname = f\"My name is : {firstname} {lastname}\"\n",
    "print(fullname)"
   ]
  },
  {
   "cell_type": "code",
   "execution_count": 28,
   "id": "678dd5ec-9d4a-41c4-94b3-e21dd7e7abe3",
   "metadata": {},
   "outputs": [
    {
     "name": "stdout",
     "output_type": "stream",
     "text": [
      "My Name Is : Mohammed Imran\n"
     ]
    }
   ],
   "source": [
    "print(fullname.title())"
   ]
  },
  {
   "cell_type": "code",
   "execution_count": 30,
   "id": "b12655aa-41b2-4f4c-a1f3-bba434c04d78",
   "metadata": {},
   "outputs": [
    {
     "name": "stdout",
     "output_type": "stream",
     "text": [
      "MY NAME IS : MOHAMMED IMRAN\n"
     ]
    }
   ],
   "source": [
    "print(fullname.upper())"
   ]
  },
  {
   "cell_type": "code",
   "execution_count": 32,
   "id": "cc2f7aa6-060d-4095-bf92-02d87ce5685c",
   "metadata": {},
   "outputs": [
    {
     "name": "stdout",
     "output_type": "stream",
     "text": [
      "my name is : mohammed imran\n"
     ]
    }
   ],
   "source": [
    "print(fullname.lower())"
   ]
  },
  {
   "cell_type": "code",
   "execution_count": null,
   "id": "98dd532b-7ad8-4621-81ea-03375b72b1b2",
   "metadata": {},
   "outputs": [],
   "source": []
  },
  {
   "cell_type": "code",
   "execution_count": 34,
   "id": "aecdfc5c-b039-402e-b936-5009d9f9310b",
   "metadata": {},
   "outputs": [
    {
     "name": "stdout",
     "output_type": "stream",
     "text": [
      "Most_Popular_prog_language:PythonJavaCC++ReactPascal\n"
     ]
    }
   ],
   "source": [
    "print(\"Most_Popular_prog_language:PythonJavaCC++ReactPascal\")"
   ]
  },
  {
   "cell_type": "code",
   "execution_count": 38,
   "id": "c22bab78-7997-43ed-a431-d16d8ad849b1",
   "metadata": {},
   "outputs": [
    {
     "name": "stdout",
     "output_type": "stream",
     "text": [
      "Most_Popular_prog_language:\n",
      "Python\n",
      "Java\n",
      "C\n",
      "C++\n",
      "React\n",
      "Pascal\n"
     ]
    }
   ],
   "source": [
    "print(\"Most_Popular_prog_language:\\nPython\\nJava\\nC\\nC++\\nReact\\nPascal\")"
   ]
  },
  {
   "cell_type": "code",
   "execution_count": 40,
   "id": "68d7b176-127e-4520-a523-0e95d12a6c11",
   "metadata": {},
   "outputs": [
    {
     "name": "stdout",
     "output_type": "stream",
     "text": [
      "Most_Popular_prog_language:\n",
      "\tPython\n",
      "\tJava\n",
      "\tC\n",
      "\tC++\n",
      "\tReact\n",
      "\tPascal\n"
     ]
    }
   ],
   "source": [
    "print(\"Most_Popular_prog_language:\\n\\tPython\\n\\tJava\\n\\tC\\n\\tC++\\n\\tReact\\n\\tPascal\")"
   ]
  },
  {
   "cell_type": "code",
   "execution_count": null,
   "id": "8449787d-a87c-4d84-bf9a-53aba3e25dce",
   "metadata": {},
   "outputs": [],
   "source": [
    "#Removing whitespaces from the string"
   ]
  },
  {
   "cell_type": "code",
   "execution_count": 42,
   "id": "f68ede40-5afa-4647-bd50-6938e31a5fdd",
   "metadata": {},
   "outputs": [
    {
     "name": "stdout",
     "output_type": "stream",
     "text": [
      "Python\n"
     ]
    }
   ],
   "source": [
    "program = 'Python'\n",
    "\n",
    "print(program)"
   ]
  },
  {
   "cell_type": "code",
   "execution_count": 44,
   "id": "496bf8a3-48a9-451b-b192-05f442b0c08c",
   "metadata": {},
   "outputs": [
    {
     "name": "stdout",
     "output_type": "stream",
     "text": [
      "     Python\n"
     ]
    }
   ],
   "source": [
    "program1 = \"     Python\"\n",
    "\n",
    "print(program1)"
   ]
  },
  {
   "cell_type": "code",
   "execution_count": 48,
   "id": "d43fd64e-02d9-4b3c-a86a-dc04445d7af8",
   "metadata": {},
   "outputs": [
    {
     "name": "stdout",
     "output_type": "stream",
     "text": [
      "Python     \n"
     ]
    }
   ],
   "source": [
    "program2 = 'Python     '\n",
    "\n",
    "print(program2)"
   ]
  },
  {
   "cell_type": "code",
   "execution_count": null,
   "id": "af17923c-3c00-4e8b-9c35-c9a32e8c19de",
   "metadata": {},
   "outputs": [],
   "source": [
    "#strip method"
   ]
  },
  {
   "cell_type": "code",
   "execution_count": 50,
   "id": "120806f4-739d-434a-8613-6af549c6a068",
   "metadata": {},
   "outputs": [
    {
     "data": {
      "text/plain": [
       "'Python'"
      ]
     },
     "execution_count": 50,
     "metadata": {},
     "output_type": "execute_result"
    }
   ],
   "source": [
    "program1.strip()"
   ]
  },
  {
   "cell_type": "code",
   "execution_count": 52,
   "id": "3bb77cad-454a-4c41-bdf5-4ba0ac4ea740",
   "metadata": {},
   "outputs": [
    {
     "data": {
      "text/plain": [
       "'Python'"
      ]
     },
     "execution_count": 52,
     "metadata": {},
     "output_type": "execute_result"
    }
   ],
   "source": [
    "program2.strip()"
   ]
  },
  {
   "cell_type": "code",
   "execution_count": null,
   "id": "4ac3ed02-c483-454c-8ec8-82b51a7a562d",
   "metadata": {},
   "outputs": [],
   "source": []
  }
 ],
 "metadata": {
  "kernelspec": {
   "display_name": "Python 3 (ipykernel)",
   "language": "python",
   "name": "python3"
  },
  "language_info": {
   "codemirror_mode": {
    "name": "ipython",
    "version": 3
   },
   "file_extension": ".py",
   "mimetype": "text/x-python",
   "name": "python",
   "nbconvert_exporter": "python",
   "pygments_lexer": "ipython3",
   "version": "3.12.4"
  }
 },
 "nbformat": 4,
 "nbformat_minor": 5
}
