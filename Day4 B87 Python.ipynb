{
 "cells": [
  {
   "cell_type": "code",
   "execution_count": null,
   "id": "114dc9bd-0943-48fd-ae50-8d9870f4f8be",
   "metadata": {},
   "outputs": [],
   "source": [
    "Declare list"
   ]
  },
  {
   "cell_type": "code",
   "execution_count": 3,
   "id": "0a3babbc-dbd2-4b8d-a607-45e12449c089",
   "metadata": {},
   "outputs": [
    {
     "name": "stdout",
     "output_type": "stream",
     "text": [
      "['mohammed', 'imran', 'ravi', 'praveen', 'raja']\n"
     ]
    }
   ],
   "source": [
    "members = ['mohammed','imran','ravi','praveen','raja']\n",
    "\n",
    "print(members)"
   ]
  },
  {
   "cell_type": "code",
   "execution_count": 5,
   "id": "47f2e770-3427-4db8-b892-5e719ec5bb58",
   "metadata": {},
   "outputs": [
    {
     "data": {
      "text/plain": [
       "list"
      ]
     },
     "execution_count": 5,
     "metadata": {},
     "output_type": "execute_result"
    }
   ],
   "source": [
    "type(members)"
   ]
  },
  {
   "cell_type": "code",
   "execution_count": 7,
   "id": "72e72534-a520-461b-9470-2ff9bcd271bb",
   "metadata": {},
   "outputs": [
    {
     "name": "stdout",
     "output_type": "stream",
     "text": [
      "['mohammed', 'imran', 'ravi', 'praveen', 'raja']\n"
     ]
    }
   ],
   "source": [
    "print(members)"
   ]
  },
  {
   "cell_type": "code",
   "execution_count": 14,
   "id": "01377283-1364-4472-86cb-9a3d1b152e2e",
   "metadata": {},
   "outputs": [
    {
     "name": "stdout",
     "output_type": "stream",
     "text": [
      "ravi\n"
     ]
    }
   ],
   "source": [
    "print(members[2])"
   ]
  },
  {
   "cell_type": "code",
   "execution_count": 16,
   "id": "c3c48718-f78f-41e0-9d7c-d3a875f87e8f",
   "metadata": {},
   "outputs": [
    {
     "name": "stdout",
     "output_type": "stream",
     "text": [
      "Ravi\n"
     ]
    }
   ],
   "source": [
    "print(members[2].title())"
   ]
  },
  {
   "cell_type": "code",
   "execution_count": 18,
   "id": "a30dd698-70d4-4af7-81b8-0ced8a24df15",
   "metadata": {},
   "outputs": [
    {
     "name": "stdout",
     "output_type": "stream",
     "text": [
      "mohammed\n"
     ]
    }
   ],
   "source": [
    "print(members[0])"
   ]
  },
  {
   "cell_type": "code",
   "execution_count": 20,
   "id": "0008aad5-f2a9-4a46-843c-3cbc039a145b",
   "metadata": {},
   "outputs": [
    {
     "name": "stdout",
     "output_type": "stream",
     "text": [
      "Mohammed\n"
     ]
    }
   ],
   "source": [
    "print(members[0].title())"
   ]
  },
  {
   "cell_type": "code",
   "execution_count": 22,
   "id": "139d31c4-221b-4829-954a-31e2dac13ac0",
   "metadata": {},
   "outputs": [
    {
     "name": "stdout",
     "output_type": "stream",
     "text": [
      "MOHAMMED\n"
     ]
    }
   ],
   "source": [
    "print(members[0].upper())"
   ]
  },
  {
   "cell_type": "code",
   "execution_count": 24,
   "id": "cca917a4-a9c2-41d9-ac05-b4d340157423",
   "metadata": {},
   "outputs": [
    {
     "name": "stdout",
     "output_type": "stream",
     "text": [
      "mohammed\n"
     ]
    }
   ],
   "source": [
    "print(members[0].lower())"
   ]
  },
  {
   "cell_type": "code",
   "execution_count": null,
   "id": "76f106b6-9dfe-4c84-bce5-80e23c1572ed",
   "metadata": {},
   "outputs": [],
   "source": [
    "Adding a new element in the list"
   ]
  },
  {
   "cell_type": "code",
   "execution_count": 28,
   "id": "4d4286b5-5a9f-4599-8410-5f7e9fae2068",
   "metadata": {},
   "outputs": [
    {
     "name": "stdout",
     "output_type": "stream",
     "text": [
      "['mohammed', 'imran', 'ravi', 'praveen', 'raja', 'kumar', 'kumar']\n"
     ]
    }
   ],
   "source": [
    "members.append('kumar')\n",
    "\n",
    "print(members)"
   ]
  },
  {
   "cell_type": "code",
   "execution_count": null,
   "id": "db9784c2-32a0-421c-88a9-ed78429863c7",
   "metadata": {},
   "outputs": [],
   "source": [
    "Adding naresh to the index 2"
   ]
  },
  {
   "cell_type": "code",
   "execution_count": 48,
   "id": "739fb5e6-3a57-492b-8cd3-f62aee541b00",
   "metadata": {},
   "outputs": [
    {
     "name": "stdout",
     "output_type": "stream",
     "text": [
      "['mohammed', 'md', 'naresh', 'naresh', 'naresh', 'imran', 'naresh', 'naresh', 'naresh', 'ravi', 'praveen', 'raja', 'kumar', 'kumar', 'kumar']\n"
     ]
    }
   ],
   "source": [
    "members.insert(3,'naresh')\n",
    "print(members)"
   ]
  },
  {
   "cell_type": "code",
   "execution_count": null,
   "id": "f00bceb7-b711-4051-bc6a-6816ef7133ed",
   "metadata": {},
   "outputs": [],
   "source": [
    "modify naresh name to suresh"
   ]
  },
  {
   "cell_type": "code",
   "execution_count": 50,
   "id": "742acce7-0ca4-4b49-983f-185586945292",
   "metadata": {},
   "outputs": [
    {
     "name": "stdout",
     "output_type": "stream",
     "text": [
      "['mohammed', 'md', 'suresh', 'naresh', 'naresh', 'imran', 'naresh', 'naresh', 'naresh', 'ravi', 'praveen', 'raja', 'kumar', 'kumar', 'kumar']\n"
     ]
    }
   ],
   "source": [
    "members[2] = 'suresh'\n",
    "\n",
    "print(members)"
   ]
  },
  {
   "cell_type": "code",
   "execution_count": 52,
   "id": "4ced7ea5-64f1-437d-9d6c-34a7ee0972e8",
   "metadata": {},
   "outputs": [
    {
     "name": "stdout",
     "output_type": "stream",
     "text": [
      "['mohammed', 'md', 'suresh', 'naresh', 'imran', 'naresh', 'naresh', 'naresh', 'ravi', 'praveen', 'raja', 'kumar', 'kumar', 'kumar']\n"
     ]
    }
   ],
   "source": [
    "del members[3]\n",
    "print(members)"
   ]
  },
  {
   "cell_type": "code",
   "execution_count": null,
   "id": "399ef704-4ea7-4544-9cb3-253cb9073817",
   "metadata": {},
   "outputs": [],
   "source": [
    "del "
   ]
  },
  {
   "cell_type": "code",
   "execution_count": null,
   "id": "bac64bfb-6a73-4125-a965-c7a7c188eeed",
   "metadata": {},
   "outputs": [],
   "source": []
  }
 ],
 "metadata": {
  "kernelspec": {
   "display_name": "Python 3 (ipykernel)",
   "language": "python",
   "name": "python3"
  },
  "language_info": {
   "codemirror_mode": {
    "name": "ipython",
    "version": 3
   },
   "file_extension": ".py",
   "mimetype": "text/x-python",
   "name": "python",
   "nbconvert_exporter": "python",
   "pygments_lexer": "ipython3",
   "version": "3.12.4"
  }
 },
 "nbformat": 4,
 "nbformat_minor": 5
}
